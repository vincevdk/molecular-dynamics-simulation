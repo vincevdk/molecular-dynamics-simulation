{
 "cells": [
  {
   "cell_type": "code",
   "execution_count": null,
   "metadata": {
    "collapsed": false
   },
   "outputs": [],
   "source": [
    "import numpy as np\n",
    "from IPython.display import HTML"
   ]
  },
  {
   "cell_type": "code",
   "execution_count": null,
   "metadata": {
    "collapsed": true
   },
   "outputs": [],
   "source": [
    "N = 3\n",
    "L = 10\n",
    "Nt = 200\n",
    "\n",
    "pos = np.zeros(shape=(Nt, N, 3), dtype=float)\n",
    "pos[0] = np.random.rand(N, 3) * L\n",
    "vel = np.random.rand(N, 3) - 0.5\n",
    "\n",
    "for t in range(1, Nt):\n",
    "    pos[t] = (pos[t-1] + 0.2 * vel) % L"
   ]
  },
  {
   "cell_type": "code",
   "execution_count": null,
   "metadata": {
    "collapsed": false
   },
   "outputs": [],
   "source": [
    "from anim import make_3d_animation\n",
    "\n",
    "anim = make_3d_animation(L, pos, delay=30, rotate_on_play=0.5)\n",
    "HTML(anim.to_html5_video())"
   ]
  }
 ],
 "metadata": {
  "anaconda-cloud": {},
  "kernelspec": {
   "display_name": "Python 3",
   "language": "python",
   "name": "python3"
  },
  "language_info": {
   "codemirror_mode": {
    "name": "ipython",
    "version": 3
   },
   "file_extension": ".py",
   "mimetype": "text/x-python",
   "name": "python",
   "nbconvert_exporter": "python",
   "pygments_lexer": "ipython3",
   "version": "3.5.2"
  }
 },
 "nbformat": 4,
 "nbformat_minor": 1
}
