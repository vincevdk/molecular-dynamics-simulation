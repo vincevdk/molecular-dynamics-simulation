{
 "cells": [
  {
   "cell_type": "code",
   "execution_count": 103,
   "metadata": {},
   "outputs": [
    {
     "name": "stdout",
     "output_type": "stream",
     "text": [
      "[[[  0.00000000e+00   0.00000000e+00]\n",
      "  [  0.00000000e+00   0.00000000e+00]]\n",
      "\n",
      " [[ -4.36496966e+01  -4.36496966e+01]\n",
      "  [ -6.32791804e+07  -6.32791804e+07]]\n",
      "\n",
      " [[  0.00000000e+00   0.00000000e+00]\n",
      "  [  0.00000000e+00   0.00000000e+00]]\n",
      "\n",
      " [[  0.00000000e+00   0.00000000e+00]\n",
      "  [  0.00000000e+00   0.00000000e+00]]\n",
      "\n",
      " [[  0.00000000e+00   0.00000000e+00]\n",
      "  [  0.00000000e+00   0.00000000e+00]]\n",
      "\n",
      " [[  0.00000000e+00   0.00000000e+00]\n",
      "  [  0.00000000e+00   0.00000000e+00]]\n",
      "\n",
      " [[  0.00000000e+00   0.00000000e+00]\n",
      "  [  0.00000000e+00   0.00000000e+00]]\n",
      "\n",
      " [[  0.00000000e+00   0.00000000e+00]\n",
      "  [  0.00000000e+00   0.00000000e+00]]\n",
      "\n",
      " [[  0.00000000e+00   0.00000000e+00]\n",
      "  [  0.00000000e+00   0.00000000e+00]]\n",
      "\n",
      " [[  0.00000000e+00   0.00000000e+00]\n",
      "  [  0.00000000e+00   0.00000000e+00]]]\n"
     ]
    },
    {
     "ename": "ValueError",
     "evalue": "could not broadcast input array from shape (2,2) into shape (2)",
     "output_type": "error",
     "traceback": [
      "\u001b[0;31m---------------------------------------------------------------------------\u001b[0m",
      "\u001b[0;31mValueError\u001b[0m                                Traceback (most recent call last)",
      "\u001b[0;32m<ipython-input-103-b170589d2240>\u001b[0m in \u001b[0;36m<module>\u001b[0;34m\u001b[0m\n\u001b[1;32m     46\u001b[0m     \u001b[0mprint\u001b[0m\u001b[0;34m(\u001b[0m\u001b[0mF\u001b[0m\u001b[0;34m)\u001b[0m\u001b[0;34m\u001b[0m\u001b[0;34m\u001b[0m\u001b[0m\n\u001b[1;32m     47\u001b[0m \u001b[0;34m\u001b[0m\u001b[0m\n\u001b[0;32m---> 48\u001b[0;31m     \u001b[0mvel\u001b[0m\u001b[0;34m[\u001b[0m\u001b[0mv\u001b[0m\u001b[0;34m,\u001b[0m\u001b[0;36m0\u001b[0m\u001b[0;34m,\u001b[0m\u001b[0;34m:\u001b[0m\u001b[0;34m]\u001b[0m \u001b[0;34m=\u001b[0m \u001b[0mvel\u001b[0m\u001b[0;34m[\u001b[0m\u001b[0mv\u001b[0m\u001b[0;34m-\u001b[0m\u001b[0;36m1\u001b[0m\u001b[0;34m,\u001b[0m\u001b[0;36m0\u001b[0m\u001b[0;34m,\u001b[0m\u001b[0;34m:\u001b[0m\u001b[0;34m]\u001b[0m\u001b[0;34m+\u001b[0m\u001b[0;34m(\u001b[0m\u001b[0;36m1\u001b[0m\u001b[0;34m/\u001b[0m\u001b[0mm\u001b[0m\u001b[0;34m)\u001b[0m\u001b[0;34m*\u001b[0m\u001b[0mh\u001b[0m\u001b[0;34m*\u001b[0m\u001b[0mF\u001b[0m\u001b[0;34m[\u001b[0m\u001b[0mv\u001b[0m\u001b[0;34m]\u001b[0m\u001b[0;34m\u001b[0m\u001b[0;34m\u001b[0m\u001b[0m\n\u001b[0m\u001b[1;32m     49\u001b[0m \u001b[0;34m\u001b[0m\u001b[0m\n\u001b[1;32m     50\u001b[0m \u001b[0;34m\u001b[0m\u001b[0m\n",
      "\u001b[0;31mValueError\u001b[0m: could not broadcast input array from shape (2,2) into shape (2)"
     ]
    }
   ],
   "source": [
    "import numpy as np\n",
    "import matplotlib.pyplot as plt\n",
    "\n",
    "from anim import make_3d_animation\n",
    "\n",
    "N_particle = 2\n",
    "dim = 2\n",
    "L = 10 \n",
    "Nt = 10\n",
    "m = 1\n",
    "h = 1/(Nt)\n",
    "\n",
    "\n",
    "\n",
    "vel = np.zeros(shape=(Nt, N_particle, dim), dtype=float)\n",
    "pos = np.zeros(shape=(Nt, N_particle, dim), dtype=float)\n",
    "dis = np.zeros(shape=(Nt, N_particle, dim), dtype=float)\n",
    "F = np.zeros(shape=(Nt, N_particle, dim), dtype=float)\n",
    "\n",
    "vel[0,:,:] = np.random.rand()\n",
    "\n",
    "\n",
    "pos[0,0,:] = np.random.rand()\n",
    "pos[0,1,:] = np.random.rand()\n",
    "\n",
    "\n",
    "\n",
    "\n",
    "dis[0,0,:] = np.random.rand()\n",
    "dis[0,1,:] = np.random.rand()\n",
    "\n",
    "\n",
    "\n",
    "\n",
    "\n",
    "#dis = np.sqrt((pos[0,0,0]-pos[0,1,0])**2 + (pos[0,0,1]-pos[0,1,1])**2)\n",
    "\n",
    "#F = -48*dis**(-13)+24*dis**(-7)\n",
    "\n",
    "\n",
    "for v in range(1,Nt):\n",
    "    \n",
    "    dis[v] = np.sqrt((pos[v-1,0,0]-pos[v-1,1,0])**2 + (pos[v-1,0,1]-pos[v-1,1,1])**2)\n",
    "    \n",
    "    F[v] = -48*dis[v-1]**(-13)+24*dis[v-1]**(-7)\n",
    "    print(F)\n",
    "    \n",
    "    vel[v,0,:] = vel[v-1,0,:]+(1/m)*h*F[v] \n",
    "       \n",
    "   \n",
    "    pos[v] = (pos[v-1]+h*vel[v-1]) % L\n",
    "    \n",
    "    \n",
    "    \n",
    "vsquare = np.sqrt(vel[:,0]**2+vel[:,1]**2)\n",
    "psquare = np.sqrt(pos[:,0]**2+pos[:,1]**2)\n",
    "x = np.linspace(1,Nt,Nt)\n",
    "\n",
    "plt.plot(x,vsquare)\n",
    "plt.show()\n",
    "\n",
    "\n",
    "\n"
   ]
  },
  {
   "cell_type": "code",
   "execution_count": 92,
   "metadata": {},
   "outputs": [
    {
     "name": "stdout",
     "output_type": "stream",
     "text": [
      "2.82842712475\n"
     ]
    }
   ],
   "source": [
    "pos = np.zeros((Nt, N_particle, dim))\n",
    "pos[0,0,:] = 2\n",
    "pos[0,1,:] = 4\n",
    "\n",
    "\n",
    "dis = np.sqrt((pos[0,0,0]-pos[0,1,0])**2 + (pos[0,0,1]-pos[0,1,1])**2)\n",
    "\n"
   ]
  },
  {
   "cell_type": "code",
   "execution_count": null,
   "metadata": {},
   "outputs": [],
   "source": []
  }
 ],
 "metadata": {
  "kernelspec": {
   "display_name": "Python 3",
   "language": "python",
   "name": "python3"
  },
  "language_info": {
   "codemirror_mode": {
    "name": "ipython",
    "version": 3
   },
   "file_extension": ".py",
   "mimetype": "text/x-python",
   "name": "python",
   "nbconvert_exporter": "python",
   "pygments_lexer": "ipython3",
   "version": "3.6.7"
  }
 },
 "nbformat": 4,
 "nbformat_minor": 2
}
