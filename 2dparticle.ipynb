{
 "cells": [
  {
   "cell_type": "code",
   "execution_count": 135,
   "metadata": {},
   "outputs": [
    {
     "data": {
      "image/png": "[encoded data removed]",
      "text/plain": [
       "<Figure size 432x288 with 1 Axes>"
      ]
     },
     "metadata": {
      "needs_background": "light"
     },
     "output_type": "display_data"
    }
   ],
   "source": [
    "import numpy as np\n",
    "import matplotlib.pyplot as plt\n",
    "\n",
    "from anim import make_3d_animation\n",
    "\n",
    "N_particle = 2\n",
    "dim = 2\n",
    "L = 10 \n",
    "Nt = 10\n",
    "m = 1\n",
    "h = 1/(Nt)\n",
    "\n",
    "\n",
    "\n",
    "vel = np.zeros(shape=(Nt, N_particle, dim), dtype=float)\n",
    "pos = np.zeros(shape=(Nt, N_particle, dim), dtype=float)\n",
    "dis = np.zeros(shape=(Nt, N_particle, dim), dtype=float)\n",
    "F = np.zeros(shape=(Nt, N_particle, dim), dtype=float)\n",
    "\n",
    "vel[0,:,:] = np.random.rand()\n",
    "\n",
    "\n",
    "pos[0,0,:] = np.random.rand()\n",
    "pos[0,1,:] = np.random.rand()\n",
    "\n",
    "\n",
    "dis[0,:,:] = np.sqrt((pos[0,0,:]-pos[0,1,:])**2)\n",
    "\n",
    "\n",
    "for v in range(1,Nt):\n",
    "    for i in range(0,N_particle):\n",
    "    \n",
    "        dis[v,i,:] = np.sqrt((pos[v-1,0,:]-pos[v-1,1,:])**2)\n",
    "        \n",
    "    \n",
    "        F[v,i,:] = -48*dis[v-1,i,:]**(-13)+24*dis[v-1,i,:]**(-7)\n",
    "    \n",
    "        vel[v,i,:] = vel[v-1,i,:]+(1/m)*h*F[v,i,:]  \n",
    "   \n",
    "        pos[v] = (pos[v-1]+h*vel[v-1]) % L\n",
    "\n",
    "    \n",
    "    \n",
    "vsquare = np.sqrt(vel[:,0,0]**2+vel[:,0,1]**2)\n",
    "psquare = np.sqrt(pos[:,0,0]**2+pos[:,0,1]**2)\n",
    "x = np.linspace(1,Nt,Nt)\n",
    "\n",
    "plt.plot(x,psquare)\n",
    "plt.show()\n",
    "\n",
    "\n",
    "\n"
   ]
  },
  {
   "cell_type": "code",
   "execution_count": 126,
   "metadata": {},
   "outputs": [
    {
     "name": "stdout",
     "output_type": "stream",
     "text": [
      "[[[ 1.  1.  1.]\n",
      "  [ 0.  0.  0.]\n",
      "  [ 0.  0.  0.]]\n",
      "\n",
      " [[ 0.  0.  0.]\n",
      "  [ 0.  0.  0.]\n",
      "  [ 0.  0.  0.]]\n",
      "\n",
      " [[ 0.  0.  0.]\n",
      "  [ 0.  0.  0.]\n",
      "  [ 0.  0.  0.]]]\n"
     ]
    }
   ],
   "source": [
    "x = np.zeros([3,3,3])\n",
    "\n",
    "x[0,0,:]=1\n",
    "\n",
    "print(x)"
   ]
  },
  {
   "cell_type": "code",
   "execution_count": 115,
   "metadata": {},
   "outputs": [
    {
     "name": "stdout",
     "output_type": "stream",
     "text": [
      "[[[ 1.  1.]\n",
      "  [ 1.  1.]]\n",
      "\n",
      " [[ 1.  1.]\n",
      "  [ 1.  1.]]]\n",
      "[ 0.  0.]\n"
     ]
    }
   ],
   "source": [
    "dis[v,0,:] = np.sqrt((pos[v-1,0,:]-pos[v-1,1,:])**2 )\n",
    "\n",
    "x = np.ones([2,2,2])\n",
    "\n",
    "print(x)\n",
    "\n",
    "\n",
    "x = x[0,0,0]-x[0,1,0]\n",
    "\n",
    "print(x)\n",
    "\n",
    "\n",
    "\n",
    "\n",
    "\n"
   ]
  },
  {
   "cell_type": "code",
   "execution_count": null,
   "metadata": {},
   "outputs": [],
   "source": []
  }
 ],
 "metadata": {
  "kernelspec": {
   "display_name": "Python 3",
   "language": "python",
   "name": "python3"
  },
  "language_info": {
   "codemirror_mode": {
    "name": "ipython",
    "version": 3
   },
   "file_extension": ".py",
   "mimetype": "text/x-python",
   "name": "python",
   "nbconvert_exporter": "python",
   "pygments_lexer": "ipython3",
   "version": "3.6.7"
  }
 },
 "nbformat": 4,
 "nbformat_minor": 2
}
